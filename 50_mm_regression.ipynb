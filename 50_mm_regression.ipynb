{
 "cells": [
  {
   "cell_type": "code",
   "execution_count": 53,
   "metadata": {},
   "outputs": [],
   "source": [
    "import pandas as pd\n",
    "import numpy as np\n",
    "import matplotlib.pyplot as plt\n",
    "import statsmodels.formula.api as sm\n",
    "from statsmodels.sandbox.regression.predstd import wls_prediction_std\n",
    "%matplotlib inline"
   ]
  },
  {
   "cell_type": "code",
   "execution_count": 54,
   "metadata": {},
   "outputs": [],
   "source": [
    "df1 = pd.read_csv('/home/gavin/Downloads/brachycalc-20180412T175907Z-001/brachycalc/50_mm_data.csv')"
   ]
  },
  {
   "cell_type": "code",
   "execution_count": 55,
   "metadata": {},
   "outputs": [],
   "source": [
    "df1['logdist'] = np.log10(df1['dist'])\n",
    "df1['logdoserate'] = np.log10(df1['doserate'])"
   ]
  },
  {
   "cell_type": "code",
   "execution_count": 56,
   "metadata": {},
   "outputs": [
    {
     "data": {
      "text/plain": [
       "<matplotlib.axes._subplots.AxesSubplot at 0x7f71ff4291d0>"
      ]
     },
     "execution_count": 56,
     "metadata": {},
     "output_type": "execute_result"
    },
    {
     "data": {
      "image/png": "[encoded data removed]",
      "text/plain": [
       "<matplotlib.figure.Figure at 0x7f7206f7b240>"
      ]
     },
     "metadata": {},
     "output_type": "display_data"
    }
   ],
   "source": [
    "df1.plot(x='logdist',y='logdoserate')"
   ]
  },
  {
   "cell_type": "code",
   "execution_count": 71,
   "metadata": {},
   "outputs": [],
   "source": [
    "result = sm.ols(formula=\"logdoserate ~ np.power(logdist,2) + logdist\", data=df1).fit()"
   ]
  },
  {
   "cell_type": "code",
   "execution_count": 72,
   "metadata": {},
   "outputs": [
    {
     "name": "stdout",
     "output_type": "stream",
     "text": [
      "                            OLS Regression Results                            \n",
      "==============================================================================\n",
      "Dep. Variable:            logdoserate   R-squared:                       0.999\n",
      "Model:                            OLS   Adj. R-squared:                  0.999\n",
      "Method:                 Least Squares   F-statistic:                 3.540e+05\n",
      "Date:                Thu, 12 Apr 2018   Prob (F-statistic):               0.00\n",
      "Time:                        22:01:16   Log-Likelihood:                 1161.0\n",
      "No. Observations:                 387   AIC:                            -2316.\n",
      "Df Residuals:                     384   BIC:                            -2304.\n",
      "Df Model:                           2                                         \n",
      "Covariance Type:            nonrobust                                         \n",
      "========================================================================================\n",
      "                           coef    std err          t      P>|t|      [0.025      0.975]\n",
      "----------------------------------------------------------------------------------------\n",
      "Intercept                0.3876      0.006     68.431      0.000       0.376       0.399\n",
      "np.power(logdist, 2)    -0.3738      0.004    -89.313      0.000      -0.382      -0.366\n",
      "logdist                 -0.5991      0.010    -60.035      0.000      -0.619      -0.580\n",
      "==============================================================================\n",
      "Omnibus:                       27.813   Durbin-Watson:                   0.071\n",
      "Prob(Omnibus):                  0.000   Jarque-Bera (JB):               65.265\n",
      "Skew:                           0.350   Prob(JB):                     6.73e-15\n",
      "Kurtosis:                       4.886   Cond. No.                         54.6\n",
      "==============================================================================\n",
      "\n",
      "Warnings:\n",
      "[1] Standard Errors assume that the covariance matrix of the errors is correctly specified.\n"
     ]
    }
   ],
   "source": [
    "print(result.summary())"
   ]
  },
  {
   "cell_type": "code",
   "execution_count": 59,
   "metadata": {},
   "outputs": [
    {
     "name": "stdout",
     "output_type": "stream",
     "text": [
      "[ 0.55983744  0.50060882  0.44639168  0.39640371  0.3500326   0.3067901\n",
      "  0.26628057  0.22817902  0.19221515  0.15816179  0.12582616  0.09504325\n",
      "  0.06567074  0.03758505  0.01067813 -0.015145   -0.03996826 -0.06386621\n",
      " -0.08690537 -0.10914531 -0.13063965 -0.15143674 -0.17158041 -0.19111048\n",
      " -0.21006321 -0.22847178 -0.24636654 -0.26377542 -0.28072409 -0.29723627\n",
      " -0.31333388 -0.32903721 -0.34436513 -0.35933517 -0.37396366 -0.38826583\n",
      " -0.40225593 -0.41594729 -0.4293524  -0.44248298 -0.45535005 -0.46796398\n",
      " -0.48033454 -0.49247094 -0.50438189 -0.5160756  -0.52755987 -0.53884205\n",
      " -0.54992914 -0.56082778 -0.57154425 -0.58208456 -0.59245439 -0.60265918\n",
      " -0.6127041  -0.62259408 -0.63233383 -0.64192783 -0.6513804  -0.66069564\n",
      " -0.66987748 -0.67892969 -0.68785588 -0.6966595  -0.70534389 -0.71391223\n",
      " -0.72236757 -0.73071286 -0.73895093 -0.7470845  -0.75511618 -0.7630485\n",
      " -0.77088388 -0.77862467 -0.78627312 -0.79383141 -0.80130164 -0.80868584\n",
      " -0.81598596 -0.82320391 -0.83034151 -0.83740053 -0.84438267 -0.85128961\n",
      " -0.85812293 -0.8648842  -0.87157491 -0.87819653 -0.88475046 -0.89123808\n",
      " -0.89766071 -0.90401965 -0.91031614 -0.9165514  -0.92272661 -0.92884291\n",
      " -0.93490142 -0.94090322 -0.94684936 -0.95274087 -0.95857873 -0.96436392\n",
      " -0.97009738 -0.97578002 -0.98141274 -0.98699642 -0.99253188 -0.99801997\n",
      " -1.00346148 -1.0088572  -1.01420789 -1.0195143  -1.02477716 -1.02999716\n",
      " -1.03517502 -1.0403114  -1.04540695 -1.05046233 -1.05547817 -1.06045507\n",
      " -1.06539364 -1.07029446 -1.0751581  -1.07998513 -1.08477609 -1.08953152\n",
      " -1.09425195 -1.09893787 -1.10358979 -1.10820821 -1.1127936  -1.11734643\n",
      " -1.12186716 -1.12635624 -1.13081411 -1.1352412  -1.13963793 -1.14400472\n",
      " -1.14834196 -1.15265007 -1.15692943 -1.16118041 -1.16540339 -1.16959875\n",
      " -1.17376683 -1.17790799 -1.18202257 -1.18611093 -1.19017337 -1.19421024\n",
      " -1.19822186 -1.20220853 -1.20617057 -1.21010827 -1.21402194 -1.21791187\n",
      " -1.22177834 -1.22562163 -1.22944202 -1.23323979 -1.23701519 -1.24076849\n",
      " -1.24449996 -1.24820983 -1.25189836 -1.25556579 -1.25921236 -1.26283831\n",
      " -1.26644388 -1.27002928 -1.27359474 -1.27714049 -1.28066673 -1.28417369\n",
      " -1.28766158 -1.29113059 -1.29458093 -1.29801281 -1.30142642 -1.30482194\n",
      " -1.30819959 -1.31155953 -1.31490196 -1.31822705 -1.32153499 -1.32482595\n",
      " -1.32810011 -1.33135763 -1.33459869 -1.33782344 -1.34103206 -1.3442247\n",
      " -1.34740152 -1.35056268 -1.35370834 -1.35683863 -1.35995372 -1.36305375\n",
      " -1.36613886 -1.36920919 -1.3722649  -1.37530611 -1.37833296 -1.3813456\n",
      " -1.38434414 -1.38732873 -1.39029949 -1.39325654 -1.39620003 -1.39913006\n",
      " -1.40204676 -1.40495026 -1.40784066 -1.4107181  -1.41358268 -1.41643452\n",
      " -1.41927373 -1.42210043 -1.42491471 -1.4277167  -1.4305065  -1.43328421\n",
      " -1.43604994 -1.4388038  -1.44154587 -1.44427627 -1.44699509 -1.44970243\n",
      " -1.45239839 -1.45508306 -1.45775653 -1.46041891 -1.46307027 -1.46571072\n",
      " -1.46834033 -1.47095921 -1.47356744 -1.47616509 -1.47875227 -1.48132905\n",
      " -1.48389551 -1.48645174 -1.48899783 -1.49153384 -1.49405986 -1.49657597\n",
      " -1.49908224 -1.50157876 -1.50406559 -1.50654281 -1.50901051 -1.51146874\n",
      " -1.51391758 -1.5163571  -1.51878738 -1.52120848 -1.52362047 -1.52602343\n",
      " -1.52841741 -1.53080249 -1.53317873 -1.53554619 -1.53790494 -1.54025505\n",
      " -1.54259658 -1.54492959 -1.54725414 -1.54957029 -1.55187811 -1.55417765\n",
      " -1.55646897 -1.55875213 -1.56102719 -1.56329421 -1.56555324 -1.56780434\n",
      " -1.57004756 -1.57228297 -1.57451061 -1.57673053 -1.57894279 -1.58114745\n",
      " -1.58334456 -1.58553416 -1.58771631 -1.58989105 -1.59205845 -1.59421855\n",
      " -1.59637139 -1.59851703 -1.60065551 -1.60278688 -1.60491119 -1.60702849\n",
      " -1.60913882 -1.61124222 -1.61333875 -1.61542845 -1.61751135 -1.61958752\n",
      " -1.62165698 -1.62371978 -1.62577597 -1.62782558 -1.62986867 -1.63190526\n",
      " -1.63393541 -1.63595915 -1.63797652 -1.63998757 -1.64199232 -1.64399083\n",
      " -1.64598313 -1.64796926 -1.64994925 -1.65192315 -1.65389099 -1.65585281\n",
      " -1.65780865 -1.65975853 -1.66170251 -1.66364061 -1.66557287 -1.66749932\n",
      " -1.66942    -1.67133495 -1.6732442  -1.67514777 -1.67704571 -1.67893805\n",
      " -1.68082483 -1.68270606 -1.6845818  -1.68645206 -1.68831688 -1.69017629\n",
      " -1.69203033 -1.69387902 -1.6957224  -1.69756049 -1.69939333 -1.70122094\n",
      " -1.70304336 -1.70486062 -1.70667274 -1.70847975 -1.71028168 -1.71207857\n",
      " -1.71387043 -1.7156573  -1.7174392  -1.71921616 -1.72098822 -1.72275539\n",
      " -1.7245177  -1.72627518 -1.72802786 -1.72977576 -1.7315189  -1.73325733\n",
      " -1.73499105 -1.73672009 -1.73844449 -1.74016426 -1.74187943 -1.74359003\n",
      " -1.74529607 -1.74699759 -1.7486946  -1.75038713 -1.75207521 -1.75375885\n",
      " -1.75543809 -1.75711294 -1.75878342 -1.76044957 -1.76211139 -1.76376892\n",
      " -1.76542218 -1.76707118 -1.76871596 -1.77035652 -1.7719929  -1.77362511\n",
      " -1.77525318 -1.77687713 -1.77849697]\n"
     ]
    }
   ],
   "source": [
    "print(result.predict())"
   ]
  },
  {
   "cell_type": "code",
   "execution_count": 60,
   "metadata": {},
   "outputs": [],
   "source": [
    "prstd, iv_l, iv_u = wls_prediction_std(result)"
   ]
  },
  {
   "cell_type": "code",
   "execution_count": 62,
   "metadata": {},
   "outputs": [
    {
     "ename": "NameError",
     "evalue": "name 'y_true' is not defined",
     "output_type": "error",
     "traceback": [
      "\u001b[0;31m---------------------------------------------------------------------------\u001b[0m",
      "\u001b[0;31mNameError\u001b[0m                                 Traceback (most recent call last)",
      "\u001b[0;32m<ipython-input-62-f354c36f3594>\u001b[0m in \u001b[0;36m<module>\u001b[0;34m()\u001b[0m\n\u001b[1;32m      5\u001b[0m \u001b[0;34m\u001b[0m\u001b[0m\n\u001b[1;32m      6\u001b[0m \u001b[0max\u001b[0m\u001b[0;34m.\u001b[0m\u001b[0mplot\u001b[0m\u001b[0;34m(\u001b[0m\u001b[0mx\u001b[0m\u001b[0;34m,\u001b[0m \u001b[0my\u001b[0m\u001b[0;34m,\u001b[0m \u001b[0;34m'o'\u001b[0m\u001b[0;34m,\u001b[0m \u001b[0mlabel\u001b[0m\u001b[0;34m=\u001b[0m\u001b[0;34m\"data\"\u001b[0m\u001b[0;34m)\u001b[0m\u001b[0;34m\u001b[0m\u001b[0m\n\u001b[0;32m----> 7\u001b[0;31m \u001b[0max\u001b[0m\u001b[0;34m.\u001b[0m\u001b[0mplot\u001b[0m\u001b[0;34m(\u001b[0m\u001b[0mx\u001b[0m\u001b[0;34m,\u001b[0m \u001b[0my_true\u001b[0m\u001b[0;34m,\u001b[0m \u001b[0;34m'b-'\u001b[0m\u001b[0;34m,\u001b[0m \u001b[0mlabel\u001b[0m\u001b[0;34m=\u001b[0m\u001b[0;34m\"True\"\u001b[0m\u001b[0;34m)\u001b[0m\u001b[0;34m\u001b[0m\u001b[0m\n\u001b[0m\u001b[1;32m      8\u001b[0m \u001b[0max\u001b[0m\u001b[0;34m.\u001b[0m\u001b[0mplot\u001b[0m\u001b[0;34m(\u001b[0m\u001b[0mx\u001b[0m\u001b[0;34m,\u001b[0m \u001b[0mres\u001b[0m\u001b[0;34m.\u001b[0m\u001b[0mfittedvalues\u001b[0m\u001b[0;34m,\u001b[0m \u001b[0;34m'r--.'\u001b[0m\u001b[0;34m,\u001b[0m \u001b[0mlabel\u001b[0m\u001b[0;34m=\u001b[0m\u001b[0;34m\"OLS\"\u001b[0m\u001b[0;34m)\u001b[0m\u001b[0;34m\u001b[0m\u001b[0m\n\u001b[1;32m      9\u001b[0m \u001b[0max\u001b[0m\u001b[0;34m.\u001b[0m\u001b[0mplot\u001b[0m\u001b[0;34m(\u001b[0m\u001b[0mx\u001b[0m\u001b[0;34m,\u001b[0m \u001b[0miv_u\u001b[0m\u001b[0;34m,\u001b[0m \u001b[0;34m'r--'\u001b[0m\u001b[0;34m)\u001b[0m\u001b[0;34m\u001b[0m\u001b[0m\n",
      "\u001b[0;31mNameError\u001b[0m: name 'y_true' is not defined"
     ]
    },
    {
     "data": {
      "image/png": "[encoded data removed]",
      "text/plain": [
       "<matplotlib.figure.Figure at 0x7f71ff3550f0>"
      ]
     },
     "metadata": {},
     "output_type": "display_data"
    }
   ],
   "source": [
    "fig, ax = plt.subplots(figsize=(8,6))\n",
    "\n",
    "x=df1.logdist\n",
    "y=df1.logdoserate\n",
    "\n",
    "ax.plot(x, y, 'o', label=\"data\")\n",
    "ax.plot(x, y_true, 'b-', label=\"True\")\n",
    "ax.plot(x, res.fittedvalues, 'r--.', label=\"OLS\")\n",
    "ax.plot(x, iv_u, 'r--')\n",
    "ax.plot(x, iv_l, 'r--')\n",
    "ax.legend(loc='best');"
   ]
  },
  {
   "cell_type": "code",
   "execution_count": 67,
   "metadata": {},
   "outputs": [
    {
     "name": "stdout",
     "output_type": "stream",
     "text": [
      "                            OLS Regression Results                            \n",
      "==============================================================================\n",
      "Dep. Variable:            logdoserate   R-squared:                       1.000\n",
      "Model:                            OLS   Adj. R-squared:                  1.000\n",
      "Method:                 Least Squares   F-statistic:                 5.335e+05\n",
      "Date:                Thu, 12 Apr 2018   Prob (F-statistic):               0.00\n",
      "Time:                        21:37:19   Log-Likelihood:                 1257.3\n",
      "No. Observations:                 387   AIC:                            -2509.\n",
      "Df Residuals:                     384   BIC:                            -2497.\n",
      "Df Model:                           2                                         \n",
      "Covariance Type:            nonrobust                                         \n",
      "========================================================================================\n",
      "                           coef    std err          t      P>|t|      [0.025      0.975]\n",
      "----------------------------------------------------------------------------------------\n",
      "Intercept                0.4438      0.004    100.518      0.000       0.435       0.453\n",
      "np.power(logdist, 2)    -0.3006      0.003    -92.121      0.000      -0.307      -0.294\n",
      "logdist                 -0.7100      0.008    -91.253      0.000      -0.725      -0.695\n",
      "==============================================================================\n",
      "Omnibus:                       48.304   Durbin-Watson:                   0.280\n",
      "Prob(Omnibus):                  0.000   Jarque-Bera (JB):               71.285\n",
      "Skew:                           0.818   Prob(JB):                     3.32e-16\n",
      "Kurtosis:                       4.320   Cond. No.                         54.6\n",
      "==============================================================================\n",
      "\n",
      "Warnings:\n",
      "[1] Standard Errors assume that the covariance matrix of the errors is correctly specified.\n"
     ]
    }
   ],
   "source": [
    "df2 = pd.read_csv('/home/gavin/Downloads/brachycalc-20180412T175907Z-001/brachycalc/60_mm_data.csv')\n",
    "df2['logdist'] = np.log10(df2['dist'])\n",
    "df2['logdoserate'] = np.log10(df2['doserate'])\n",
    "result2 = sm.ols(formula=\"logdoserate ~ np.power(logdist,2) + logdist\", data=df2).fit()\n",
    "print(result2.summary())"
   ]
  },
  {
   "cell_type": "code",
   "execution_count": 68,
   "metadata": {},
   "outputs": [
    {
     "name": "stdout",
     "output_type": "stream",
     "text": [
      "                            OLS Regression Results                            \n",
      "==============================================================================\n",
      "Dep. Variable:            logdoserate   R-squared:                       0.999\n",
      "Model:                            OLS   Adj. R-squared:                  0.999\n",
      "Method:                 Least Squares   F-statistic:                 2.804e+05\n",
      "Date:                Thu, 12 Apr 2018   Prob (F-statistic):               0.00\n",
      "Time:                        21:39:16   Log-Likelihood:                 1144.7\n",
      "No. Observations:                 386   AIC:                            -2283.\n",
      "Df Residuals:                     383   BIC:                            -2272.\n",
      "Df Model:                           2                                         \n",
      "Covariance Type:            nonrobust                                         \n",
      "========================================================================================\n",
      "                           coef    std err          t      P>|t|      [0.025      0.975]\n",
      "----------------------------------------------------------------------------------------\n",
      "Intercept                0.4288      0.006     73.091      0.000       0.417       0.440\n",
      "np.power(logdist, 2)    -0.2891      0.004    -66.612      0.000      -0.298      -0.281\n",
      "logdist                 -0.6861      0.010    -66.332      0.000      -0.706      -0.666\n",
      "==============================================================================\n",
      "Omnibus:                       15.199   Durbin-Watson:                   0.166\n",
      "Prob(Omnibus):                  0.001   Jarque-Bera (JB):               16.014\n",
      "Skew:                           0.495   Prob(JB):                     0.000333\n",
      "Kurtosis:                       3.131   Cond. No.                         54.5\n",
      "==============================================================================\n",
      "\n",
      "Warnings:\n",
      "[1] Standard Errors assume that the covariance matrix of the errors is correctly specified.\n"
     ]
    }
   ],
   "source": [
    "df3 = pd.read_csv('/home/gavin/Downloads/brachycalc-20180412T175907Z-001/brachycalc/70_mm_data.csv')\n",
    "df3['logdist'] = np.log10(df3['dist'])\n",
    "df3['logdoserate'] = np.log10(df3['doserate'])\n",
    "result3 = sm.ols(formula=\"logdoserate ~ np.power(logdist,2) + logdist\", data=df3).fit()\n",
    "print(result3.summary())"
   ]
  },
  {
   "cell_type": "code",
   "execution_count": null,
   "metadata": {},
   "outputs": [],
   "source": []
  }
 ],
 "metadata": {
  "kernelspec": {
   "display_name": "Python 3",
   "language": "python",
   "name": "python3"
  },
  "language_info": {
   "codemirror_mode": {
    "name": "ipython",
    "version": 3
   },
   "file_extension": ".py",
   "mimetype": "text/x-python",
   "name": "python",
   "nbconvert_exporter": "python",
   "pygments_lexer": "ipython3",
   "version": "3.5.2"
  }
 },
 "nbformat": 4,
 "nbformat_minor": 2
}
